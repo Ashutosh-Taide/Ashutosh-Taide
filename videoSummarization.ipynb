{
  "nbformat": 4,
  "nbformat_minor": 0,
  "metadata": {
    "colab": {
      "name": "videoSummarization.ipynb",
      "provenance": [],
      "authorship_tag": "ABX9TyPHQ3GM+PXnf/t4WERe3P4X",
      "include_colab_link": true
    },
    "kernelspec": {
      "name": "python3",
      "display_name": "Python 3"
    },
    "language_info": {
      "name": "python"
    }
  },
  "cells": [
    {
      "cell_type": "markdown",
      "metadata": {
        "id": "view-in-github",
        "colab_type": "text"
      },
      "source": [
        "<a href=\"https://colab.research.google.com/github/Ashutosh-Taide/Ashutosh-Taide/blob/main/videoSummarization.ipynb\" target=\"_parent\"><img src=\"https://colab.research.google.com/assets/colab-badge.svg\" alt=\"Open In Colab\"/></a>"
      ]
    },
    {
      "cell_type": "code",
      "execution_count": null,
      "metadata": {
        "id": "wqUcKKyd0Jrd",
        "colab": {
          "base_uri": "https://localhost:8080/",
          "height": 385
        },
        "outputId": "f445b87a-1b1b-40bc-9391-f7420d8a020f"
      },
      "outputs": [
        {
          "output_type": "execute_result",
          "data": {
            "text/plain": [
              "                                       Full-Document  \\\n",
              "0  The Trump Administration has been quietly fund...   \n",
              "1  The border between the United States and Mexic...   \n",
              "\n",
              "                                            Citation  \\\n",
              "0  Hunt 18 Edward Hunt writes about war and empir...   \n",
              "1  Monzo et al 17. Lilia D. Monzó, associate pro...   \n",
              "\n",
              "                                             Extract  \\\n",
              "0  The Trump Administration has been quietly fund...   \n",
              "1  The border between the United States and Mexic...   \n",
              "\n",
              "                                            Abstract  #CharsDocument  \\\n",
              "0  This file was produced by the following studen...            5041   \n",
              "1  Imperialism in Mexico is not just a one-off in...            9849   \n",
              "\n",
              "   #CharsAbstract  #CharsExtract  #WordsDocument  #WordsAbstract  \\\n",
              "0             147           2106             788              25   \n",
              "1             431           4481            1559              71   \n",
              "\n",
              "   #WordsExtract  AbsCompressionRatio  ExtCompressionRatio  \\\n",
              "0            326             0.031726             0.413706   \n",
              "1            693             0.045542             0.444516   \n",
              "\n",
              "               OriginalDebateFileName  \n",
              "0  Mexico Honduras  - Wake 2019.html5  \n",
              "1  Mexico Honduras  - Wake 2019.html5  "
            ],
            "text/html": [
              "\n",
              "  <div id=\"df-999d0979-6d1b-4f83-9601-c3dd933ef301\">\n",
              "    <div class=\"colab-df-container\">\n",
              "      <div>\n",
              "<style scoped>\n",
              "    .dataframe tbody tr th:only-of-type {\n",
              "        vertical-align: middle;\n",
              "    }\n",
              "\n",
              "    .dataframe tbody tr th {\n",
              "        vertical-align: top;\n",
              "    }\n",
              "\n",
              "    .dataframe thead th {\n",
              "        text-align: right;\n",
              "    }\n",
              "</style>\n",
              "<table border=\"1\" class=\"dataframe\">\n",
              "  <thead>\n",
              "    <tr style=\"text-align: right;\">\n",
              "      <th></th>\n",
              "      <th>Full-Document</th>\n",
              "      <th>Citation</th>\n",
              "      <th>Extract</th>\n",
              "      <th>Abstract</th>\n",
              "      <th>#CharsDocument</th>\n",
              "      <th>#CharsAbstract</th>\n",
              "      <th>#CharsExtract</th>\n",
              "      <th>#WordsDocument</th>\n",
              "      <th>#WordsAbstract</th>\n",
              "      <th>#WordsExtract</th>\n",
              "      <th>AbsCompressionRatio</th>\n",
              "      <th>ExtCompressionRatio</th>\n",
              "      <th>OriginalDebateFileName</th>\n",
              "    </tr>\n",
              "  </thead>\n",
              "  <tbody>\n",
              "    <tr>\n",
              "      <th>0</th>\n",
              "      <td>The Trump Administration has been quietly fund...</td>\n",
              "      <td>Hunt 18 Edward Hunt writes about war and empir...</td>\n",
              "      <td>The Trump Administration has been quietly fund...</td>\n",
              "      <td>This file was produced by the following studen...</td>\n",
              "      <td>5041</td>\n",
              "      <td>147</td>\n",
              "      <td>2106</td>\n",
              "      <td>788</td>\n",
              "      <td>25</td>\n",
              "      <td>326</td>\n",
              "      <td>0.031726</td>\n",
              "      <td>0.413706</td>\n",
              "      <td>Mexico Honduras  - Wake 2019.html5</td>\n",
              "    </tr>\n",
              "    <tr>\n",
              "      <th>1</th>\n",
              "      <td>The border between the United States and Mexic...</td>\n",
              "      <td>Monzo et al 17. Lilia D. Monzó, associate pro...</td>\n",
              "      <td>The border between the United States and Mexic...</td>\n",
              "      <td>Imperialism in Mexico is not just a one-off in...</td>\n",
              "      <td>9849</td>\n",
              "      <td>431</td>\n",
              "      <td>4481</td>\n",
              "      <td>1559</td>\n",
              "      <td>71</td>\n",
              "      <td>693</td>\n",
              "      <td>0.045542</td>\n",
              "      <td>0.444516</td>\n",
              "      <td>Mexico Honduras  - Wake 2019.html5</td>\n",
              "    </tr>\n",
              "  </tbody>\n",
              "</table>\n",
              "</div>\n",
              "      <button class=\"colab-df-convert\" onclick=\"convertToInteractive('df-999d0979-6d1b-4f83-9601-c3dd933ef301')\"\n",
              "              title=\"Convert this dataframe to an interactive table.\"\n",
              "              style=\"display:none;\">\n",
              "        \n",
              "  <svg xmlns=\"http://www.w3.org/2000/svg\" height=\"24px\"viewBox=\"0 0 24 24\"\n",
              "       width=\"24px\">\n",
              "    <path d=\"M0 0h24v24H0V0z\" fill=\"none\"/>\n",
              "    <path d=\"M18.56 5.44l.94 2.06.94-2.06 2.06-.94-2.06-.94-.94-2.06-.94 2.06-2.06.94zm-11 1L8.5 8.5l.94-2.06 2.06-.94-2.06-.94L8.5 2.5l-.94 2.06-2.06.94zm10 10l.94 2.06.94-2.06 2.06-.94-2.06-.94-.94-2.06-.94 2.06-2.06.94z\"/><path d=\"M17.41 7.96l-1.37-1.37c-.4-.4-.92-.59-1.43-.59-.52 0-1.04.2-1.43.59L10.3 9.45l-7.72 7.72c-.78.78-.78 2.05 0 2.83L4 21.41c.39.39.9.59 1.41.59.51 0 1.02-.2 1.41-.59l7.78-7.78 2.81-2.81c.8-.78.8-2.07 0-2.86zM5.41 20L4 18.59l7.72-7.72 1.47 1.35L5.41 20z\"/>\n",
              "  </svg>\n",
              "      </button>\n",
              "      \n",
              "  <style>\n",
              "    .colab-df-container {\n",
              "      display:flex;\n",
              "      flex-wrap:wrap;\n",
              "      gap: 12px;\n",
              "    }\n",
              "\n",
              "    .colab-df-convert {\n",
              "      background-color: #E8F0FE;\n",
              "      border: none;\n",
              "      border-radius: 50%;\n",
              "      cursor: pointer;\n",
              "      display: none;\n",
              "      fill: #1967D2;\n",
              "      height: 32px;\n",
              "      padding: 0 0 0 0;\n",
              "      width: 32px;\n",
              "    }\n",
              "\n",
              "    .colab-df-convert:hover {\n",
              "      background-color: #E2EBFA;\n",
              "      box-shadow: 0px 1px 2px rgba(60, 64, 67, 0.3), 0px 1px 3px 1px rgba(60, 64, 67, 0.15);\n",
              "      fill: #174EA6;\n",
              "    }\n",
              "\n",
              "    [theme=dark] .colab-df-convert {\n",
              "      background-color: #3B4455;\n",
              "      fill: #D2E3FC;\n",
              "    }\n",
              "\n",
              "    [theme=dark] .colab-df-convert:hover {\n",
              "      background-color: #434B5C;\n",
              "      box-shadow: 0px 1px 3px 1px rgba(0, 0, 0, 0.15);\n",
              "      filter: drop-shadow(0px 1px 2px rgba(0, 0, 0, 0.3));\n",
              "      fill: #FFFFFF;\n",
              "    }\n",
              "  </style>\n",
              "\n",
              "      <script>\n",
              "        const buttonEl =\n",
              "          document.querySelector('#df-999d0979-6d1b-4f83-9601-c3dd933ef301 button.colab-df-convert');\n",
              "        buttonEl.style.display =\n",
              "          google.colab.kernel.accessAllowed ? 'block' : 'none';\n",
              "\n",
              "        async function convertToInteractive(key) {\n",
              "          const element = document.querySelector('#df-999d0979-6d1b-4f83-9601-c3dd933ef301');\n",
              "          const dataTable =\n",
              "            await google.colab.kernel.invokeFunction('convertToInteractive',\n",
              "                                                     [key], {});\n",
              "          if (!dataTable) return;\n",
              "\n",
              "          const docLinkHtml = 'Like what you see? Visit the ' +\n",
              "            '<a target=\"_blank\" href=https://colab.research.google.com/notebooks/data_table.ipynb>data table notebook</a>'\n",
              "            + ' to learn more about interactive tables.';\n",
              "          element.innerHTML = '';\n",
              "          dataTable['output_type'] = 'display_data';\n",
              "          await google.colab.output.renderOutput(dataTable, element);\n",
              "          const docLink = document.createElement('div');\n",
              "          docLink.innerHTML = docLinkHtml;\n",
              "          element.appendChild(docLink);\n",
              "        }\n",
              "      </script>\n",
              "    </div>\n",
              "  </div>\n",
              "  "
            ]
          },
          "metadata": {},
          "execution_count": 11
        }
      ],
      "source": [
        "import pandas as pd\n",
        "df = pd.read_csv('drive/MyDrive/Colab Notebooks/majorProject/dataset/debate2019.csv')\n",
        "df.head(2)"
      ]
    },
    {
      "cell_type": "code",
      "source": [
        "d = df.iloc[0].tolist()"
      ],
      "metadata": {
        "id": "9MX9WHvaCMkm"
      },
      "execution_count": null,
      "outputs": []
    },
    {
      "cell_type": "code",
      "source": [
        "d[3]"
      ],
      "metadata": {
        "colab": {
          "base_uri": "https://localhost:8080/",
          "height": 53
        },
        "id": "aP9O18-GIFnj",
        "outputId": "41648f7b-df0b-40e6-e565-bba250934cde"
      },
      "execution_count": null,
      "outputs": [
        {
          "output_type": "execute_result",
          "data": {
            "text/plain": [
              "'This file was produced by the following students from the 2019 rKs lab in conjunction with and under the instruction of Dr. Shanara Reid Brinkley. '"
            ],
            "application/vnd.google.colaboratory.intrinsic+json": {
              "type": "string"
            }
          },
          "metadata": {},
          "execution_count": 24
        }
      ]
    },
    {
      "cell_type": "code",
      "source": [
        "d[0]"
      ],
      "metadata": {
        "colab": {
          "base_uri": "https://localhost:8080/",
          "height": 851
        },
        "id": "XEvpzJFODiBs",
        "outputId": "395d740e-7ee1-4867-9067-4a27eca5671f"
      },
      "execution_count": null,
      "outputs": [
        {
          "output_type": "execute_result",
          "data": {
            "text/plain": [
              "'The Trump Administration has been quietly funding the Mexican government’s ongoing drug war, intensifying a conflict that claimed nearly 20,000 lives in 2017, a new record. Administration officials rarely speak about their involvement in the war, preferring to keep their role hidden. Their silence and the lack of media attention have allowed the Trump team to hide U.S. involvement without having to answer for the increase in violence. The Mexican government launched the drug war in December 2006, when it began deploying tens of thousands of military troops to confront drug cartels and drug traffickers. The military operations sparked a steady rise in drug-related violence, quickly transforming Mexico into one of the most violent countries in the world. Since the war began, more than 100,000 Mexicans have died in drug-related violence. In Washington, U.S. officials have been steadily supporting the war with the Mérida Initiative, a multi-billion dollar program that provides the Mexican military with equipment and training. Although the Obama Administration withheld $5 million in program aid in 2015 due to human rights violations by the Mexican military, it preserved the overall program, ensuring that the U.S. remained involved in the war. When the Trump Administration entered office, President Trump indicated that he wanted to increase U.S. involvement. During a phone call with Mexican President Enrique Peña Nieto, Trump called for a tougher approach. “You have some pretty tough hombres in Mexico that you may need help with, and we are willing to help you with that big-league,” Trump said, according to a leaked transcript. After suggesting that the Mexican military has been “afraid” to go after the cartels, Trump argued that U.S. military forces should get more directly involved. At the time, many administration officials agreed they should do more to help the Mexican government confront the drug cartels. They began pressuring the Mexican government to intensify the military operations. During a meeting with Mexican officials in May 2017, Secretary of State Rex Tillerson repeated some of Trump’s demands. “I told my Mexican counterparts it’s time to stop playing small ball, we’ve got to start playing large ball,” Tillerson later acknowledged before Congress. In 2017, Congress contributed to the effort by providing the Mexican government with another $130 million through the Mérida Initiative, according to a recent Congressional Research Service report.In addition, the Department of Defense increased military funding for the Mexican military, providing nearly $60 million in assistance for the drug war. “Despite DOD’s limited role in the Mérida Initiative, bilateral military cooperation has been increasing,” the report concluded. “Listen, I know how tough these guys are,” Trump said. “Our military will knock them out like you never thought of.” The U.S. military has been using much of the additional Department of Defense funding to provide more training for the Mexican military. In 2017, the U.S. military brought at least a thousand Mexican military forces to the United States for training. “We open our schoolhouses for them,” Secretary of Defense James Mattis explained in September. “We have lessons learned that we share with each other based on various operations.” Earlier this year, General Lori J. Robinson, commander of NORTHCOM, told a congressional committee that U.S. Marines “provided small-unit training to over 1,500 Mexican Marines to help prepare those troops for the fight against the cartels.” U.S. officials insist this approach is working. Although drug-related violence is now at peak levels, they say their programs are helping the Mexican government disrupt the cartels and provide security throughout the country.“ Our cooperation is making citizens on both sides of our border safer,” State Department official John Sullivan said in December 2017.partnership with Mexico has “paid significant dividends for both our nations’ security.” Others disagree. They say the U.S. military assistance is a major factor behind the increase in drug-related violence. And they have long called on the U.S. government to halt its military sales to the Mexican government. “The U.S. role in the militarization of Mexico’s drug war has exacerbated many of Mexico’s problems,” wrote Christy Thornton, a board member at the North American Congress on Latin America, in 2014. “It is time now to accept our responsibility for helping to reverse them.” Trump is clearly disinclined to take such advice, as he continues to rail against Mexico, condemning the country for the growing violence while insisting that the best solution is to build a wall. He recently tweeted, “They must stop the big drug and people flows or I will stop their cash cow, NAFTA. NEED WALL!” At the same time that he is quietly helping the Mexican government intensify the drug war, Trump is working to ensure that the people who suffer unfairly from it will never be able to find refuge inthe United States.'"
            ],
            "application/vnd.google.colaboratory.intrinsic+json": {
              "type": "string"
            }
          },
          "metadata": {},
          "execution_count": 21
        }
      ]
    }
  ]
}